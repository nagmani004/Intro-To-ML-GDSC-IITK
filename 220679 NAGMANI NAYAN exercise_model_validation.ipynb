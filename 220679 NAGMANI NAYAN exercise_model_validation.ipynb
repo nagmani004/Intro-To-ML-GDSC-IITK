{
  "metadata": {
    "kernelspec": {
      "display_name": "Python 3",
      "language": "python",
      "name": "python3"
    },
    "language_info": {
      "codemirror_mode": {
        "name": "ipython",
        "version": 3
      },
      "file_extension": ".py",
      "mimetype": "text/x-python",
      "name": "python",
      "nbconvert_exporter": "python",
      "pygments_lexer": "ipython3",
      "version": "3.6.5"
    },
    "kaggle": {
      "accelerator": "none",
      "dataSources": [
        {
          "sourceId": 10211,
          "databundleVersionId": 111096,
          "sourceType": "competition"
        },
        {
          "sourceId": 15520,
          "sourceType": "datasetVersion",
          "datasetId": 11167
        },
        {
          "sourceId": 38454,
          "sourceType": "datasetVersion",
          "datasetId": 2709
        }
      ],
      "isInternetEnabled": false,
      "language": "python",
      "sourceType": "notebook",
      "isGpuEnabled": false
    },
    "colab": {
      "provenance": [],
      "include_colab_link": true
    }
  },
  "nbformat_minor": 0,
  "nbformat": 4,
  "cells": [
    {
      "cell_type": "markdown",
      "metadata": {
        "id": "view-in-github",
        "colab_type": "text"
      },
      "source": [
        "<a href=\"https://colab.research.google.com/github/nagmani004/Intro-To-ML-GDSC-IITK/blob/main/220679%20NAGMANI%20NAYAN%20exercise_model_validation.ipynb\" target=\"_parent\"><img src=\"https://colab.research.google.com/assets/colab-badge.svg\" alt=\"Open In Colab\"/></a>"
      ]
    },
    {
      "cell_type": "markdown",
      "source": [
        "**This notebook is an exercise in the [Introduction to Machine Learning](https://www.kaggle.com/learn/intro-to-machine-learning) course.  You can reference the tutorial at [this link](https://www.kaggle.com/dansbecker/model-validation).**\n",
        "\n",
        "---\n"
      ],
      "metadata": {
        "id": "JCArGuW2-Vs5"
      }
    },
    {
      "cell_type": "markdown",
      "source": [
        "## Recap\n",
        "You've built a model. In this exercise you will test how good your model is.\n",
        "\n",
        "Run the cell below to set up your coding environment where the previous exercise left off."
      ],
      "metadata": {
        "id": "gdC7gTGB-Vs-"
      }
    },
    {
      "cell_type": "code",
      "source": [
        "# Code you have previously used to load data\n",
        "import pandas as pd\n",
        "from sklearn.tree import DecisionTreeRegressor\n",
        "\n",
        "# Path of the file to read\n",
        "iowa_file_path = '/content/train.csv'\n",
        "\n",
        "home_data = pd.read_csv(iowa_file_path)\n",
        "y = home_data.SalePrice\n",
        "feature_columns = ['LotArea', 'YearBuilt', '1stFlrSF', '2ndFlrSF', 'FullBath', 'BedroomAbvGr', 'TotRmsAbvGrd']\n",
        "X = home_data[feature_columns]\n",
        "\n",
        "# Specify Model\n",
        "iowa_model = DecisionTreeRegressor()\n",
        "# Fit Model\n",
        "iowa_model.fit(X, y)\n",
        "\n",
        "print(\"First in-sample predictions:\", iowa_model.predict(X.head()))\n",
        "print(\"Actual target values for those homes:\", y.head().tolist())\n"
      ],
      "metadata": {
        "colab": {
          "base_uri": "https://localhost:8080/"
        },
        "id": "BzGC5pQM-VtA",
        "outputId": "86db6db0-07ff-4149-dd87-aa1783eb240c"
      },
      "execution_count": 1,
      "outputs": [
        {
          "output_type": "stream",
          "name": "stdout",
          "text": [
            "First in-sample predictions: [208500. 181500. 223500. 140000. 250000.]\n",
            "Actual target values for those homes: [208500, 181500, 223500, 140000, 250000]\n"
          ]
        }
      ]
    },
    {
      "cell_type": "markdown",
      "source": [
        "# Exercises\n",
        "\n",
        "## Step 1: Split Your Data\n",
        "Use the `train_test_split` function to split up your data.\n",
        "\n",
        "Give it the argument `random_state=1` so the `check` functions know what to expect when verifying your code.\n",
        "\n",
        "Recall, your features are loaded in the DataFrame **X** and your target is loaded in **y**.\n"
      ],
      "metadata": {
        "id": "uBliALaF-VtD"
      }
    },
    {
      "cell_type": "code",
      "source": [
        " from sklearn.model_selection import train_test_split\n",
        "\n",
        "# fill in  uncomment\n",
        " train_X, val_X, train_y, val_y =train_test_split(X,y,random_state=1)\n",
        "\n",
        "# Check your answer\n"
      ],
      "metadata": {
        "id": "PhsmJX9j-VtD"
      },
      "execution_count": null,
      "outputs": []
    },
    {
      "cell_type": "markdown",
      "source": [
        "## Step 2: Specify and Fit the Model\n",
        "\n",
        "Create a `DecisionTreeRegressor` model and fit it to the relevant data.\n",
        "Set `random_state` to 1 again when creating the model."
      ],
      "metadata": {
        "id": "O_YTIWif-VtF"
      }
    },
    {
      "cell_type": "code",
      "source": [
        "# You imported DecisionTreeRegressor in your last exercise\n",
        "# and that code has been copied to the setup code above. So, no need to\n",
        "# import it again\n",
        "\n",
        "# Specify the model\n",
        "iowa_model = DecisionTreeRegressor()\n",
        "\n",
        "# Fit iowa_model with the training data.\n",
        "iowa_model.fit(train_X,train_y)\n",
        "\n"
      ],
      "metadata": {
        "colab": {
          "base_uri": "https://localhost:8080/",
          "height": 51
        },
        "id": "LeZi37Mg-VtF",
        "outputId": "139111f4-05af-413a-da5f-cf3a27602c3c"
      },
      "execution_count": null,
      "outputs": [
        {
          "output_type": "execute_result",
          "data": {
            "text/plain": [
              "DecisionTreeRegressor()"
            ],
            "text/html": [
              "<style>#sk-container-id-1 {color: black;background-color: white;}#sk-container-id-1 pre{padding: 0;}#sk-container-id-1 div.sk-toggleable {background-color: white;}#sk-container-id-1 label.sk-toggleable__label {cursor: pointer;display: block;width: 100%;margin-bottom: 0;padding: 0.3em;box-sizing: border-box;text-align: center;}#sk-container-id-1 label.sk-toggleable__label-arrow:before {content: \"▸\";float: left;margin-right: 0.25em;color: #696969;}#sk-container-id-1 label.sk-toggleable__label-arrow:hover:before {color: black;}#sk-container-id-1 div.sk-estimator:hover label.sk-toggleable__label-arrow:before {color: black;}#sk-container-id-1 div.sk-toggleable__content {max-height: 0;max-width: 0;overflow: hidden;text-align: left;background-color: #f0f8ff;}#sk-container-id-1 div.sk-toggleable__content pre {margin: 0.2em;color: black;border-radius: 0.25em;background-color: #f0f8ff;}#sk-container-id-1 input.sk-toggleable__control:checked~div.sk-toggleable__content {max-height: 200px;max-width: 100%;overflow: auto;}#sk-container-id-1 input.sk-toggleable__control:checked~label.sk-toggleable__label-arrow:before {content: \"▾\";}#sk-container-id-1 div.sk-estimator input.sk-toggleable__control:checked~label.sk-toggleable__label {background-color: #d4ebff;}#sk-container-id-1 div.sk-label input.sk-toggleable__control:checked~label.sk-toggleable__label {background-color: #d4ebff;}#sk-container-id-1 input.sk-hidden--visually {border: 0;clip: rect(1px 1px 1px 1px);clip: rect(1px, 1px, 1px, 1px);height: 1px;margin: -1px;overflow: hidden;padding: 0;position: absolute;width: 1px;}#sk-container-id-1 div.sk-estimator {font-family: monospace;background-color: #f0f8ff;border: 1px dotted black;border-radius: 0.25em;box-sizing: border-box;margin-bottom: 0.5em;}#sk-container-id-1 div.sk-estimator:hover {background-color: #d4ebff;}#sk-container-id-1 div.sk-parallel-item::after {content: \"\";width: 100%;border-bottom: 1px solid gray;flex-grow: 1;}#sk-container-id-1 div.sk-label:hover label.sk-toggleable__label {background-color: #d4ebff;}#sk-container-id-1 div.sk-serial::before {content: \"\";position: absolute;border-left: 1px solid gray;box-sizing: border-box;top: 0;bottom: 0;left: 50%;z-index: 0;}#sk-container-id-1 div.sk-serial {display: flex;flex-direction: column;align-items: center;background-color: white;padding-right: 0.2em;padding-left: 0.2em;position: relative;}#sk-container-id-1 div.sk-item {position: relative;z-index: 1;}#sk-container-id-1 div.sk-parallel {display: flex;align-items: stretch;justify-content: center;background-color: white;position: relative;}#sk-container-id-1 div.sk-item::before, #sk-container-id-1 div.sk-parallel-item::before {content: \"\";position: absolute;border-left: 1px solid gray;box-sizing: border-box;top: 0;bottom: 0;left: 50%;z-index: -1;}#sk-container-id-1 div.sk-parallel-item {display: flex;flex-direction: column;z-index: 1;position: relative;background-color: white;}#sk-container-id-1 div.sk-parallel-item:first-child::after {align-self: flex-end;width: 50%;}#sk-container-id-1 div.sk-parallel-item:last-child::after {align-self: flex-start;width: 50%;}#sk-container-id-1 div.sk-parallel-item:only-child::after {width: 0;}#sk-container-id-1 div.sk-dashed-wrapped {border: 1px dashed gray;margin: 0 0.4em 0.5em 0.4em;box-sizing: border-box;padding-bottom: 0.4em;background-color: white;}#sk-container-id-1 div.sk-label label {font-family: monospace;font-weight: bold;display: inline-block;line-height: 1.2em;}#sk-container-id-1 div.sk-label-container {text-align: center;}#sk-container-id-1 div.sk-container {/* jupyter's `normalize.less` sets `[hidden] { display: none; }` but bootstrap.min.css set `[hidden] { display: none !important; }` so we also need the `!important` here to be able to override the default hidden behavior on the sphinx rendered scikit-learn.org. See: https://github.com/scikit-learn/scikit-learn/issues/21755 */display: inline-block !important;position: relative;}#sk-container-id-1 div.sk-text-repr-fallback {display: none;}</style><div id=\"sk-container-id-1\" class=\"sk-top-container\"><div class=\"sk-text-repr-fallback\"><pre>DecisionTreeRegressor()</pre><b>In a Jupyter environment, please rerun this cell to show the HTML representation or trust the notebook. <br />On GitHub, the HTML representation is unable to render, please try loading this page with nbviewer.org.</b></div><div class=\"sk-container\" hidden><div class=\"sk-item\"><div class=\"sk-estimator sk-toggleable\"><input class=\"sk-toggleable__control sk-hidden--visually\" id=\"sk-estimator-id-1\" type=\"checkbox\" checked><label for=\"sk-estimator-id-1\" class=\"sk-toggleable__label sk-toggleable__label-arrow\">DecisionTreeRegressor</label><div class=\"sk-toggleable__content\"><pre>DecisionTreeRegressor()</pre></div></div></div></div></div>"
            ]
          },
          "metadata": {},
          "execution_count": 8
        }
      ]
    },
    {
      "cell_type": "code",
      "source": [
        "# step_2.hint()\n",
        "# step_2.solution()"
      ],
      "metadata": {
        "id": "7TUqGDye-VtG"
      },
      "execution_count": null,
      "outputs": []
    },
    {
      "cell_type": "markdown",
      "source": [
        "## Step 3: Make Predictions with Validation data\n"
      ],
      "metadata": {
        "id": "QKQlm7K9-VtH"
      }
    },
    {
      "cell_type": "code",
      "source": [
        "# Predict with all validation observations\n",
        "val_predictions =iowa_model.predict(val_X)\n",
        "\n",
        "# Check your answer"
      ],
      "metadata": {
        "id": "59-52DXQ-VtH"
      },
      "execution_count": null,
      "outputs": []
    },
    {
      "cell_type": "code",
      "source": [
        "# step_3.hint()\n",
        "# step_3.solution()"
      ],
      "metadata": {
        "id": "cKNDa5QN-VtI"
      },
      "execution_count": null,
      "outputs": []
    },
    {
      "cell_type": "markdown",
      "source": [
        "Inspect your predictions and actual values from validation data."
      ],
      "metadata": {
        "id": "4G4oEVfv-VtI"
      }
    },
    {
      "cell_type": "code",
      "source": [
        "# print the top few validation predictions\n",
        "print(val_predictions)\n",
        "# print the top few actual prices from validation data\n",
        "print(val_y.head())"
      ],
      "metadata": {
        "colab": {
          "base_uri": "https://localhost:8080/"
        },
        "id": "yhP6yBfP-VtJ",
        "outputId": "6234bdcd-1a6f-44dd-aa69-721715f30cb0"
      },
      "execution_count": null,
      "outputs": [
        {
          "output_type": "stream",
          "name": "stdout",
          "text": [
            "[231500. 179500. 122000.  84500. 142000. 325624. 285000. 147576. 195000.\n",
            " 275000. 175000.  61000. 174000. 385000. 230000.  87000. 125000.  98600.\n",
            " 260000. 143000. 124000. 122500. 236500. 337500.  76000. 187000. 128000.\n",
            " 179000. 485000. 122500. 106000. 118000. 127000.  80000. 153000. 360000.\n",
            " 132000.  85500. 262280. 112000. 131000. 139000.  87000. 135000. 181000.\n",
            " 163500. 116900. 159895. 244600. 294000.  97000. 295000. 120500. 239500.\n",
            " 194000. 115000. 119500. 180000. 118000. 178000. 167000. 267000.  82000.\n",
            " 133900. 167000. 132500. 135000. 248000. 160000. 144500. 200500. 113000.\n",
            " 354000. 164000. 170000. 224000. 163900. 160000. 466500. 172500. 193500.\n",
            " 133000. 137000. 167500. 196500. 146000. 159500. 158000. 189000. 172500.\n",
            " 194201. 181000. 115000. 101800. 100000. 139000. 115000. 139000. 156000.\n",
            " 158000. 172000. 138000. 125500. 123000. 134500. 163000. 169990. 140000.\n",
            " 140000. 325000. 157500. 225000. 107000. 185500. 239900. 163990. 201000.\n",
            " 127000. 172500. 228000. 117000. 232600. 403000. 169500. 151400. 180000.\n",
            " 370878.  55993. 207500. 224500. 280000.  82000. 137000. 130500.  73000.\n",
            " 217000. 625000. 367294. 230000. 142000. 115000. 272000. 176500. 234000.\n",
            "  40000. 213500. 126000. 187100. 200000. 117500. 176000. 174000.  97000.\n",
            " 169000. 154000. 361919.  85000. 134000.  96500. 127000.  60000. 108480.\n",
            " 151000. 135000.  99500. 124000. 177500. 144000. 119000. 107500. 254900.\n",
            " 180500. 222000. 271000. 181000. 140000. 158000. 204750. 135000. 161500.\n",
            " 128500. 179540. 143000. 147000. 280000. 131500. 253293. 317000. 210000.\n",
            " 120000. 110000. 127000. 106000. 172500. 166000. 258000. 213000. 150000.\n",
            " 158500.  82500. 212000. 238000. 158000. 178000. 328900. 110000. 185000.\n",
            " 320000. 315000. 228950. 180000. 117000. 176000. 111250. 297000. 266000.\n",
            " 130000.  93200. 186700.  91000. 745000.  62383. 172500. 170000. 119000.\n",
            " 129900. 210000. 173000. 164500. 170000. 125500. 183000. 103000. 141500.\n",
            " 315500. 118911. 290000. 119000. 104900. 348000. 374000. 200100. 132250.\n",
            " 161500. 131500. 104000. 132500. 133000. 170000. 180000. 130000. 125000.\n",
            " 186500. 171500. 100000. 114500. 173000.  86000. 320000. 133000. 220000.\n",
            " 137900. 224900. 153500. 115000. 207500. 113000. 178400. 140000.  83000.\n",
            " 197000. 187500.  81000.  93500. 197500.  93000. 106000. 144000. 220000.\n",
            " 144900. 139000. 132000. 149000. 153500. 263435. 205000. 132500. 103200.\n",
            " 249700.  64500.  83000. 339750. 145900. 106250. 164990. 228500. 193000.\n",
            " 244000. 159950. 119000. 160000. 147000. 134450. 174000. 144000. 190000.\n",
            " 160000. 175000. 135000. 176000. 168500. 139000. 102776. 221500. 148500.\n",
            "  55000. 281000. 179900. 182900. 217500. 195000. 154000. 124900. 228000.\n",
            " 125000. 438780. 160200. 271000. 113000. 103600. 119500. 275000. 250000.\n",
            " 306000. 168000. 136905. 135875. 107000. 341000. 176000. 224900. 289000.\n",
            "  79900. 274000. 109900. 175000. 166000. 151000. 264132.  79500. 241000.\n",
            " 141000. 377426. 132000. 141000. 136500. 205950. 157000.  93000. 309000.\n",
            " 187500. 178000. 125000. 232000. 135000.]\n",
            "258     231500\n",
            "267     179500\n",
            "288     122000\n",
            "649      84500\n",
            "1233    142000\n",
            "Name: SalePrice, dtype: int64\n"
          ]
        }
      ]
    },
    {
      "cell_type": "markdown",
      "source": [
        "What do you notice that is different from what you saw with in-sample predictions (which are printed after the top code cell in this page).\n",
        "\n",
        "Do you remember why validation predictions differ from in-sample (or training) predictions? This is an important idea from the last lesson.\n",
        "\n",
        "## Step 4: Calculate the Mean Absolute Error in Validation Data\n"
      ],
      "metadata": {
        "id": "7htwpNhu-VtJ"
      }
    },
    {
      "cell_type": "code",
      "source": [
        "from sklearn.metrics import mean_absolute_error\n",
        "val_mae =mean_absolute_error(val_predictions,val_y)\n",
        "\n",
        "# uncomment following line to see the validation_mae\n",
        "print(val_mae)\n",
        "\n"
      ],
      "metadata": {
        "colab": {
          "base_uri": "https://localhost:8080/"
        },
        "id": "PgVMs0eu-VtK",
        "outputId": "31b82cfa-4808-4aeb-cffb-a680d80da350"
      },
      "execution_count": null,
      "outputs": [
        {
          "output_type": "stream",
          "name": "stdout",
          "text": [
            "31.923287671232877\n"
          ]
        }
      ]
    },
    {
      "cell_type": "markdown",
      "source": [
        "Is that MAE good?  There isn't a general rule for what values are good that applies across applications. But you'll see how to use (and improve) this number in the next step.\n",
        "\n",
        "# Keep Going\n",
        "\n",
        "You are ready for **[Underfitting and Overfitting](https://www.kaggle.com/dansbecker/underfitting-and-overfitting).**\n"
      ],
      "metadata": {
        "id": "LIzItqTa-VtL"
      }
    },
    {
      "cell_type": "markdown",
      "source": [
        "---\n",
        "\n",
        "\n",
        "\n",
        "\n",
        "*Have questions or comments? Visit the [course discussion forum](https://www.kaggle.com/learn/intro-to-machine-learning/discussion) to chat with other learners.*"
      ],
      "metadata": {
        "id": "duY-8pc_-VtL"
      }
    }
  ]
}