{
  "metadata": {
    "jupytext": {
      "cell_metadata_filter": "-all",
      "formats": "ipynb"
    },
    "kernelspec": {
      "display_name": "Python 3",
      "language": "python",
      "name": "python3"
    },
    "language_info": {
      "codemirror_mode": {
        "name": "ipython",
        "version": 3
      },
      "file_extension": ".py",
      "mimetype": "text/x-python",
      "name": "python",
      "nbconvert_exporter": "python",
      "pygments_lexer": "ipython3",
      "version": "3.6.5"
    },
    "kaggle": {
      "accelerator": "none",
      "dataSources": [
        {
          "sourceId": 1828856,
          "sourceType": "datasetVersion",
          "datasetId": 933090
        }
      ],
      "isInternetEnabled": false,
      "language": "python",
      "sourceType": "notebook",
      "isGpuEnabled": false
    },
    "colab": {
      "provenance": []
    }
  },
  "nbformat_minor": 0,
  "nbformat": 4,
  "cells": [
    {
      "cell_type": "markdown",
      "source": [
        "**This notebook is an exercise in the [Feature Engineering](https://www.kaggle.com/learn/feature-engineering) course.  You can reference the tutorial at [this link](https://www.kaggle.com/ryanholbrook/creating-features).**\n",
        "\n",
        "---\n"
      ],
      "metadata": {
        "id": "40mxkiNqmTlE"
      }
    },
    {
      "cell_type": "markdown",
      "source": [
        "# Introduction #\n",
        "\n",
        "In this exercise you'll start developing the features you identified in Exercise 2 as having the most potential. As you work through this exercise, you might take a moment to look at the data documentation again and consider whether the features we're creating make sense from a real-world perspective, and whether there are any useful combinations that stand out to you.\n",
        "\n",
        "Run this cell to set everything up!"
      ],
      "metadata": {
        "id": "BKqi80kzmTlN"
      }
    },
    {
      "cell_type": "code",
      "source": [
        "\n",
        "\n",
        "import numpy as np\n",
        "import pandas as pd\n",
        "from sklearn.model_selection import cross_val_score\n",
        "from xgboost import XGBRegressor\n",
        "\n",
        "\n",
        "def score_dataset(X, y, model=XGBRegressor()):\n",
        "    # Label encoding for categoricals\n",
        "    for colname in X.select_dtypes([\"category\", \"object\"]):\n",
        "        X[colname], _ = X[colname].factorize()\n",
        "    # Metric for Housing competition is RMSLE (Root Mean Squared Log Error)\n",
        "    score = cross_val_score(\n",
        "        model, X, y, cv=5, scoring=\"neg_mean_squared_log_error\",\n",
        "    )\n",
        "    score = -1 * score.mean()\n",
        "    score = np.sqrt(score)\n",
        "    return score\n",
        "\n",
        "\n",
        "# Prepare data\n",
        "df = pd.read_csv(\"/content/ames.csv\")\n",
        "X = df.copy()\n",
        "y = X.pop(\"SalePrice\")"
      ],
      "metadata": {
        "id": "jQQqBHxCmTlP"
      },
      "execution_count": 48,
      "outputs": []
    },
    {
      "cell_type": "markdown",
      "source": [
        "-------------------------------------------------------------------------------\n",
        "\n",
        "Let's start with a few mathematical combinations. We'll focus on features describing areas -- having the same units (square-feet) makes it easy to combine them in sensible ways. Since we're using XGBoost (a tree-based model), we'll focus on ratios and sums.\n",
        "\n",
        "# 1) Create Mathematical Transforms\n",
        "\n",
        "Create the following features:\n",
        "\n",
        "- `LivLotRatio`: the ratio of `GrLivArea` to `LotArea`\n",
        "- `Spaciousness`: the sum of `FirstFlrSF` and `SecondFlrSF` divided by `TotRmsAbvGrd`\n",
        "- `TotalOutsideSF`: the sum of `WoodDeckSF`, `OpenPorchSF`, `EnclosedPorch`, `Threeseasonporch`, and `ScreenPorch`"
      ],
      "metadata": {
        "id": "P3fhIltFmTlS"
      }
    },
    {
      "cell_type": "code",
      "source": [
        "# YOUR CODE HERE\n",
        "X_1 = pd.DataFrame()  # dataframe to hold new features\n",
        "\n",
        "X_1[\"LivLotRatio\"] = df.GrLivArea/df.LotArea\n",
        "X_1[\"Spaciousness\"] =(df.FirstFlrSF+df.SecondFlrSF)/df.TotRmsAbvGrd\n",
        "X_1[\"TotalOutsideSF\"] =df.WoodDeckSF+df.OpenPorchSF+df.EnclosedPorch+df.Threeseasonporch+df.ScreenPorch\n",
        "\n"
      ],
      "metadata": {
        "lines_to_next_cell": 0,
        "id": "cob5hoywmTlT"
      },
      "execution_count": 49,
      "outputs": []
    },
    {
      "cell_type": "code",
      "source": [
        "# Lines below will give you a hint or solution code\n",
        "#q_1.hint()\n",
        "#q_1.solution()"
      ],
      "metadata": {
        "lines_to_next_cell": 0,
        "id": "MlUmDNCTmTlV"
      },
      "execution_count": null,
      "outputs": []
    },
    {
      "cell_type": "markdown",
      "source": [
        "-------------------------------------------------------------------------------\n",
        "\n",
        "If you've discovered an interaction effect between a numeric feature and a categorical feature, you might want to model it explicitly using a one-hot encoding, like so:\n",
        "\n",
        "```\n",
        "# One-hot encode Categorical feature, adding a column prefix \"Cat\"\n",
        "X_new = pd.get_dummies(df.Categorical, prefix=\"Cat\")\n",
        "\n",
        "# Multiply row-by-row\n",
        "X_new = X_new.mul(df.Continuous, axis=0)\n",
        "\n",
        "# Join the new features to the feature set\n",
        "X = X.join(X_new)\n",
        "```\n",
        "\n",
        "# 2) Interaction with a Categorical\n",
        "\n",
        "We discovered an interaction between `BldgType` and `GrLivArea` in Exercise 2. Now create their interaction features."
      ],
      "metadata": {
        "id": "XqUMPuyTmTlW"
      }
    },
    {
      "cell_type": "code",
      "source": [
        "# YOUR CODE HERE\n",
        "# One-hot encode BldgType. Use `prefix=\"Bldg\"` in `get_dummies`\n",
        "X_2 = pd.get_dummies(df.BldgType,prefix=\"Bldg\")\n",
        "# Multiply\n",
        "X_2=X_2.mul(df.GrLivArea,axis=0)\n"
      ],
      "metadata": {
        "lines_to_next_cell": 0,
        "id": "QrdWg8W6mTlX"
      },
      "execution_count": 50,
      "outputs": []
    },
    {
      "cell_type": "code",
      "source": [
        "# Lines below will give you a hint or solution code\n",
        "#q_2.hint()\n",
        "#q_2.solution()"
      ],
      "metadata": {
        "lines_to_next_cell": 0,
        "id": "_5eAFE22mTlZ"
      },
      "execution_count": null,
      "outputs": []
    },
    {
      "cell_type": "markdown",
      "source": [
        "# 3) Count Feature\n",
        "\n",
        "Let's try creating a feature that describes how many kinds of outdoor areas a dwelling has. Create a feature `PorchTypes` that counts how many of the following are greater than 0.0:\n",
        "\n",
        "```\n",
        "WoodDeckSF\n",
        "OpenPorchSF\n",
        "EnclosedPorch\n",
        "Threeseasonporch\n",
        "ScreenPorch\n",
        "```"
      ],
      "metadata": {
        "lines_to_next_cell": 0,
        "id": "oH2rB63ImTla"
      }
    },
    {
      "cell_type": "code",
      "source": [
        "X_3 = pd.DataFrame()\n",
        "outdoor_area=['WoodDeckSF','OpenPorchSF','EnclosedPorch','Threeseasonporch','ScreenPorch']\n",
        "# YOUR CODE HERE\n",
        "X_3[\"PorchTypes\"] = df[outdoor_area].gt(0).sum(axis=1)\n",
        "\n",
        "\n",
        "# Check your answer\n"
      ],
      "metadata": {
        "lines_to_next_cell": 0,
        "id": "UMuRgUiLmTlb"
      },
      "execution_count": 51,
      "outputs": []
    },
    {
      "cell_type": "code",
      "source": [
        "# Lines below will give you a hint or solution code\n",
        "#q_3.hint()\n",
        "#q_3.solution()"
      ],
      "metadata": {
        "lines_to_next_cell": 0,
        "id": "uBOkfA08mTlc"
      },
      "execution_count": null,
      "outputs": []
    },
    {
      "cell_type": "markdown",
      "source": [
        "# 4) Break Down a Categorical Feature\n",
        "\n",
        "`MSSubClass` describes the type of a dwelling:"
      ],
      "metadata": {
        "id": "5C61rp4gmTlc"
      }
    },
    {
      "cell_type": "code",
      "source": [
        "df.MSSubClass.unique()"
      ],
      "metadata": {
        "id": "PBJiQbKcmTld",
        "colab": {
          "base_uri": "https://localhost:8080/"
        },
        "outputId": "233c6d73-2536-47ec-c1aa-7812a16f9db8"
      },
      "execution_count": 52,
      "outputs": [
        {
          "output_type": "execute_result",
          "data": {
            "text/plain": [
              "array(['One_Story_1946_and_Newer_All_Styles', 'Two_Story_1946_and_Newer',\n",
              "       'One_Story_PUD_1946_and_Newer',\n",
              "       'One_and_Half_Story_Finished_All_Ages', 'Split_Foyer',\n",
              "       'Two_Story_PUD_1946_and_Newer', 'Split_or_Multilevel',\n",
              "       'One_Story_1945_and_Older', 'Duplex_All_Styles_and_Ages',\n",
              "       'Two_Family_conversion_All_Styles_and_Ages',\n",
              "       'One_and_Half_Story_Unfinished_All_Ages',\n",
              "       'Two_Story_1945_and_Older', 'Two_and_Half_Story_All_Ages',\n",
              "       'One_Story_with_Finished_Attic_All_Ages',\n",
              "       'PUD_Multilevel_Split_Level_Foyer',\n",
              "       'One_and_Half_Story_PUD_All_Ages'], dtype=object)"
            ]
          },
          "metadata": {},
          "execution_count": 52
        }
      ]
    },
    {
      "cell_type": "markdown",
      "source": [
        "You can see that there is a more general categorization described (roughly) by the first word of each category. Create a feature containing only these first words by splitting `MSSubClass` at the first underscore `_`. (Hint: In the `split` method use an argument `n=1`.)"
      ],
      "metadata": {
        "id": "8tYoRBpvmTld"
      }
    },
    {
      "cell_type": "code",
      "source": [
        "X_4 = pd.DataFrame()\n",
        "\n",
        "# YOUR CODE HERE\n",
        "\n",
        "X_4[\"before_un\"]=df['MSSubClass'].str.split(\"_\",n=1).str[0]\n",
        "print(X_4)"
      ],
      "metadata": {
        "lines_to_next_cell": 0,
        "id": "FWF-FqirmTld",
        "colab": {
          "base_uri": "https://localhost:8080/"
        },
        "outputId": "40f0db0c-0f0f-4039-b24d-0115caf76c15"
      },
      "execution_count": 53,
      "outputs": [
        {
          "output_type": "stream",
          "name": "stdout",
          "text": [
            "     before_un\n",
            "0          One\n",
            "1          One\n",
            "2          One\n",
            "3          One\n",
            "4          Two\n",
            "...        ...\n",
            "2925     Split\n",
            "2926       One\n",
            "2927     Split\n",
            "2928       One\n",
            "2929       Two\n",
            "\n",
            "[2930 rows x 1 columns]\n"
          ]
        }
      ]
    },
    {
      "cell_type": "code",
      "source": [
        "# Lines below will give you a hint or solution code\n",
        "#q_4.hint()\n",
        "#q_4.solution()"
      ],
      "metadata": {
        "lines_to_next_cell": 0,
        "id": "U5HAvV2RmTle"
      },
      "execution_count": null,
      "outputs": []
    },
    {
      "cell_type": "markdown",
      "source": [
        "# 5) Use a Grouped Transform\n",
        "\n",
        "The value of a home often depends on how it compares to typical homes in its neighborhood. Create a feature `MedNhbdArea` that describes the *median* of `GrLivArea` grouped on `Neighborhood`."
      ],
      "metadata": {
        "id": "nzHoBGFgmTle"
      }
    },
    {
      "cell_type": "code",
      "source": [
        "X_5 = pd.DataFrame()\n",
        "\n",
        "# YOUR CODE HERE\n",
        "X_5[\"MedNhbdArea\"] =( df.groupby(\"Neighborhood\") [\"GrLivArea\"].transform(\"median\"))\n"
      ],
      "metadata": {
        "lines_to_next_cell": 0,
        "id": "LRix9TrwmTlf"
      },
      "execution_count": 54,
      "outputs": []
    },
    {
      "cell_type": "code",
      "source": [
        "# Lines below will give you a hint or solution code\n",
        "#q_5.hint()\n",
        "#q_5.solution()"
      ],
      "metadata": {
        "lines_to_next_cell": 0,
        "id": "CZNf7WegmTlf"
      },
      "execution_count": null,
      "outputs": []
    },
    {
      "cell_type": "markdown",
      "source": [
        "Now you've made your first new feature set! If you like, you can run the cell below to score the model with all of your new features added:"
      ],
      "metadata": {
        "id": "T2iFskUWmTlf"
      }
    },
    {
      "cell_type": "code",
      "source": [
        "\n",
        "X_new = X.join([X_1, X_2, X_3, X_4, X_5])\n",
        "score_dataset(X_new,y)"
      ],
      "metadata": {
        "id": "dJLX_W3VmTlf",
        "colab": {
          "base_uri": "https://localhost:8080/"
        },
        "outputId": "a341e4f0-4983-4b19-c901-ca13e978308f"
      },
      "execution_count": 55,
      "outputs": [
        {
          "output_type": "execute_result",
          "data": {
            "text/plain": [
              "0.13898802438327912"
            ]
          },
          "metadata": {},
          "execution_count": 55
        }
      ]
    },
    {
      "cell_type": "markdown",
      "source": [
        "# Keep Going #\n",
        "\n",
        "[**Untangle spatial relationships**](https://www.kaggle.com/ryanholbrook/clustering-with-k-means) by adding cluster labels to your dataset."
      ],
      "metadata": {
        "id": "zCE1TjkgmTlg"
      }
    },
    {
      "cell_type": "markdown",
      "source": [
        "---\n",
        "\n",
        "\n",
        "\n",
        "\n",
        "*Have questions or comments? Visit the [course discussion forum](https://www.kaggle.com/learn/feature-engineering/discussion) to chat with other learners.*"
      ],
      "metadata": {
        "id": "5GwJLWmumTlg"
      }
    }
  ]
}