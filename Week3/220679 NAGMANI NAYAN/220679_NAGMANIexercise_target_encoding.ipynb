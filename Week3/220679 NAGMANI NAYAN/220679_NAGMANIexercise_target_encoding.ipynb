{
  "metadata": {
    "jupytext": {
      "cell_metadata_filter": "-all",
      "formats": "ipynb"
    },
    "kernelspec": {
      "display_name": "Python 3",
      "language": "python",
      "name": "python3"
    },
    "language_info": {
      "codemirror_mode": {
        "name": "ipython",
        "version": 3
      },
      "file_extension": ".py",
      "mimetype": "text/x-python",
      "name": "python",
      "nbconvert_exporter": "python",
      "pygments_lexer": "ipython3",
      "version": "3.6.5"
    },
    "kaggle": {
      "accelerator": "none",
      "dataSources": [
        {
          "sourceId": 1828856,
          "sourceType": "datasetVersion",
          "datasetId": 933090
        }
      ],
      "isInternetEnabled": false,
      "language": "python",
      "sourceType": "notebook",
      "isGpuEnabled": false
    },
    "colab": {
      "provenance": []
    }
  },
  "nbformat_minor": 0,
  "nbformat": 4,
  "cells": [
    {
      "cell_type": "markdown",
      "source": [
        "**This notebook is an exercise in the [Feature Engineering](https://www.kaggle.com/learn/feature-engineering) course.  You can reference the tutorial at [this link](https://www.kaggle.com/ryanholbrook/target-encoding).**\n",
        "\n",
        "---\n"
      ],
      "metadata": {
        "id": "txVcb9WT0GsK"
      }
    },
    {
      "cell_type": "markdown",
      "source": [
        "# Introduction #\n",
        "\n",
        "In this exercise, you'll apply target encoding to features in the [*Ames*](https://www.kaggle.com/c/house-prices-advanced-regression-techniques/data) dataset.\n",
        "\n",
        "Run this cell to set everything up!"
      ],
      "metadata": {
        "id": "7kimj3vd0GsS"
      }
    },
    {
      "cell_type": "code",
      "source": [
        "import matplotlib.pyplot as plt\n",
        "import numpy as np\n",
        "import pandas as pd\n",
        "import seaborn as sns\n",
        "import warnings\n",
        "!pip install category_encoders\n",
        "from category_encoders import MEstimateEncoder\n",
        "from sklearn.model_selection import cross_val_score\n",
        "from xgboost import XGBRegressor\n",
        "\n",
        "# Set Matplotlib defaults\n",
        "plt.style.use(\"seaborn-whitegrid\")\n",
        "plt.rc(\"figure\", autolayout=True)\n",
        "plt.rc(\n",
        "    \"axes\",\n",
        "    labelweight=\"bold\",\n",
        "    labelsize=\"large\",\n",
        "    titleweight=\"bold\",\n",
        "    titlesize=14,\n",
        "    titlepad=10,\n",
        ")\n",
        "warnings.filterwarnings('ignore')\n",
        "\n",
        "\n",
        "def score_dataset(X, y, model=XGBRegressor()):\n",
        "    # Label encoding for categoricals\n",
        "    for colname in X.select_dtypes([\"category\", \"object\"]):\n",
        "        X[colname], _ = X[colname].factorize()\n",
        "    # Metric for Housing competition is RMSLE (Root Mean Squared Log Error)\n",
        "    score = cross_val_score(\n",
        "        model, X, y, cv=5, scoring=\"neg_mean_squared_log_error\",\n",
        "    )\n",
        "    score = -1 * score.mean()\n",
        "    score = np.sqrt(score)\n",
        "    return score\n",
        "\n",
        "\n",
        "df = pd.read_csv(\"/content/ames.csv\")"
      ],
      "metadata": {
        "colab": {
          "base_uri": "https://localhost:8080/"
        },
        "id": "bLiCU5bc0GsT",
        "outputId": "89c9d47d-48cb-4e1e-a385-6c50c11a5830"
      },
      "execution_count": 5,
      "outputs": [
        {
          "output_type": "stream",
          "name": "stdout",
          "text": [
            "Collecting category_encoders\n",
            "  Downloading category_encoders-2.6.3-py2.py3-none-any.whl (81 kB)\n",
            "\u001b[?25l     \u001b[90m━━━━━━━━━━━━━━━━━━━━━━━━━━━━━━━━━━━━━━━━\u001b[0m \u001b[32m0.0/81.9 kB\u001b[0m \u001b[31m?\u001b[0m eta \u001b[36m-:--:--\u001b[0m\r\u001b[2K     \u001b[90m━━━━━━━━━━━━━━━━━━━━━━━━━━━━━━━━━━━━━━━━\u001b[0m \u001b[32m81.9/81.9 kB\u001b[0m \u001b[31m2.4 MB/s\u001b[0m eta \u001b[36m0:00:00\u001b[0m\n",
            "\u001b[?25hRequirement already satisfied: numpy>=1.14.0 in /usr/local/lib/python3.10/dist-packages (from category_encoders) (1.23.5)\n",
            "Requirement already satisfied: scikit-learn>=0.20.0 in /usr/local/lib/python3.10/dist-packages (from category_encoders) (1.2.2)\n",
            "Requirement already satisfied: scipy>=1.0.0 in /usr/local/lib/python3.10/dist-packages (from category_encoders) (1.11.4)\n",
            "Requirement already satisfied: statsmodels>=0.9.0 in /usr/local/lib/python3.10/dist-packages (from category_encoders) (0.14.1)\n",
            "Requirement already satisfied: pandas>=1.0.5 in /usr/local/lib/python3.10/dist-packages (from category_encoders) (1.5.3)\n",
            "Requirement already satisfied: patsy>=0.5.1 in /usr/local/lib/python3.10/dist-packages (from category_encoders) (0.5.4)\n",
            "Requirement already satisfied: python-dateutil>=2.8.1 in /usr/local/lib/python3.10/dist-packages (from pandas>=1.0.5->category_encoders) (2.8.2)\n",
            "Requirement already satisfied: pytz>=2020.1 in /usr/local/lib/python3.10/dist-packages (from pandas>=1.0.5->category_encoders) (2023.3.post1)\n",
            "Requirement already satisfied: six in /usr/local/lib/python3.10/dist-packages (from patsy>=0.5.1->category_encoders) (1.16.0)\n",
            "Requirement already satisfied: joblib>=1.1.1 in /usr/local/lib/python3.10/dist-packages (from scikit-learn>=0.20.0->category_encoders) (1.3.2)\n",
            "Requirement already satisfied: threadpoolctl>=2.0.0 in /usr/local/lib/python3.10/dist-packages (from scikit-learn>=0.20.0->category_encoders) (3.2.0)\n",
            "Requirement already satisfied: packaging>=21.3 in /usr/local/lib/python3.10/dist-packages (from statsmodels>=0.9.0->category_encoders) (23.2)\n",
            "Installing collected packages: category_encoders\n",
            "Successfully installed category_encoders-2.6.3\n"
          ]
        },
        {
          "output_type": "stream",
          "name": "stderr",
          "text": [
            "<ipython-input-5-2ff1a039b53e>:12: MatplotlibDeprecationWarning: The seaborn styles shipped by Matplotlib are deprecated since 3.6, as they no longer correspond to the styles shipped by seaborn. However, they will remain available as 'seaborn-v0_8-<style>'. Alternatively, directly use the seaborn API instead.\n",
            "  plt.style.use(\"seaborn-whitegrid\")\n"
          ]
        }
      ]
    },
    {
      "cell_type": "markdown",
      "source": [
        "-------------------------------------------------------------------------------\n",
        "\n",
        "First you'll need to choose which features you want to apply a target encoding to. Categorical features with a large number of categories are often good candidates. Run this cell to see how many categories each categorical feature in the *Ames* dataset has."
      ],
      "metadata": {
        "id": "xbs-ZO9i0GsW"
      }
    },
    {
      "cell_type": "code",
      "source": [
        "df.select_dtypes([\"object\"]).nunique()"
      ],
      "metadata": {
        "colab": {
          "base_uri": "https://localhost:8080/"
        },
        "id": "F4nZx3IX0GsX",
        "outputId": "d52546d8-f557-4204-b0d2-c768522a590d"
      },
      "execution_count": 6,
      "outputs": [
        {
          "output_type": "execute_result",
          "data": {
            "text/plain": [
              "MSSubClass       16\n",
              "MSZoning          7\n",
              "Street            2\n",
              "Alley             3\n",
              "LotShape          4\n",
              "LandContour       4\n",
              "Utilities         3\n",
              "LotConfig         5\n",
              "LandSlope         3\n",
              "Neighborhood     28\n",
              "Condition1        9\n",
              "Condition2        8\n",
              "BldgType          5\n",
              "HouseStyle        8\n",
              "OverallQual      10\n",
              "OverallCond       9\n",
              "RoofStyle         6\n",
              "RoofMatl          8\n",
              "Exterior1st      16\n",
              "Exterior2nd      17\n",
              "MasVnrType        5\n",
              "ExterQual         4\n",
              "ExterCond         5\n",
              "Foundation        6\n",
              "BsmtQual          6\n",
              "BsmtCond          6\n",
              "BsmtExposure      5\n",
              "BsmtFinType1      7\n",
              "BsmtFinType2      7\n",
              "Heating           6\n",
              "HeatingQC         5\n",
              "CentralAir        2\n",
              "Electrical        6\n",
              "KitchenQual       5\n",
              "Functional        8\n",
              "FireplaceQu       6\n",
              "GarageType        7\n",
              "GarageFinish      4\n",
              "GarageQual        6\n",
              "GarageCond        6\n",
              "PavedDrive        3\n",
              "PoolQC            5\n",
              "Fence             5\n",
              "MiscFeature       6\n",
              "SaleType         10\n",
              "SaleCondition     6\n",
              "dtype: int64"
            ]
          },
          "metadata": {},
          "execution_count": 6
        }
      ]
    },
    {
      "cell_type": "markdown",
      "source": [
        "We talked about how the M-estimate encoding uses smoothing to improve estimates for rare categories. To see how many times a category occurs in the dataset, you can use the `value_counts` method. This cell shows the counts for `SaleType`, but you might want to consider others as well."
      ],
      "metadata": {
        "id": "esd_5czd0GsX"
      }
    },
    {
      "cell_type": "code",
      "source": [
        "df[\"SaleType\"].value_counts()"
      ],
      "metadata": {
        "colab": {
          "base_uri": "https://localhost:8080/"
        },
        "id": "rJMYJXob0GsY",
        "outputId": "71668b40-2b42-404e-ac6f-68107ab2c884"
      },
      "execution_count": 7,
      "outputs": [
        {
          "output_type": "execute_result",
          "data": {
            "text/plain": [
              "WD       2536\n",
              "New       239\n",
              "COD        87\n",
              "ConLD      26\n",
              "CWD        12\n",
              "ConLI       9\n",
              "ConLw       8\n",
              "Oth         7\n",
              "Con         5\n",
              "VWD         1\n",
              "Name: SaleType, dtype: int64"
            ]
          },
          "metadata": {},
          "execution_count": 7
        }
      ]
    },
    {
      "cell_type": "markdown",
      "source": [
        "# 1) Choose Features for Encoding\n",
        "\n",
        "Which features did you identify for target encoding? After you've thought about your answer, run the next cell for some discussion."
      ],
      "metadata": {
        "id": "D-0FlkMl0GsZ"
      }
    },
    {
      "cell_type": "code",
      "source": [
        "# View the solution (Run this cell to receive credit!)\n"
      ],
      "metadata": {
        "id": "lLPQZVYS0Gsa"
      },
      "execution_count": null,
      "outputs": []
    },
    {
      "cell_type": "markdown",
      "source": [
        "-------------------------------------------------------------------------------\n",
        "\n",
        "Now you'll apply a target encoding to your choice of feature. As we discussed in the tutorial, to avoid overfitting, we need to fit the encoder on data heldout from the training set. Run this cell to create the encoding and training splits:"
      ],
      "metadata": {
        "id": "2OhP09QL0Gsa"
      }
    },
    {
      "cell_type": "code",
      "source": [
        "# Encoding split\n",
        "X_encode = df.sample(frac=0.20, random_state=0)\n",
        "y_encode = X_encode.pop(\"SalePrice\")\n",
        "\n",
        "# Training split\n",
        "X_pretrain = df.drop(X_encode.index)\n",
        "y_train = X_pretrain.pop(\"SalePrice\")"
      ],
      "metadata": {
        "lines_to_next_cell": 2,
        "id": "2mPceaUR0Gsb"
      },
      "execution_count": 8,
      "outputs": []
    },
    {
      "cell_type": "markdown",
      "source": [
        "# 2) Apply M-Estimate Encoding\n",
        "\n",
        "Apply a target encoding to your choice of categorical features. Also choose a value for the smoothing parameter `m` (any value is okay for a correct answer)."
      ],
      "metadata": {
        "id": "9qGNdrit0Gsb"
      }
    },
    {
      "cell_type": "code",
      "source": [
        "# YOUR CODE HERE: Create the MEstimateEncoder\n",
        "# Choose a set of features to encode and a value for m\n",
        "# i choose neighbourhood because it has highest category\n",
        "encoder = MEstimateEncoder(cols=[\"Neighborhood\"], m=10.0)\n",
        "\n",
        "\n",
        "\n",
        "# Fit the encoder on the encoding split\n",
        "encoder.fit(X_encode, y_encode)\n",
        "\n",
        "# Encode the training split\n",
        "X_train = encoder.transform(X_pretrain, y_train)\n",
        "\n"
      ],
      "metadata": {
        "lines_to_next_cell": 0,
        "id": "xrFOArdP0Gsb"
      },
      "execution_count": 10,
      "outputs": []
    },
    {
      "cell_type": "code",
      "source": [
        "# Lines below will give you a hint or solution code\n",
        "#q_2.hint()\n",
        "#q_2.solution()"
      ],
      "metadata": {
        "lines_to_next_cell": 0,
        "id": "w2TEShBQ0Gsc"
      },
      "execution_count": null,
      "outputs": []
    },
    {
      "cell_type": "markdown",
      "source": [
        "If you'd like to see how the encoded feature compares to the target, you can run this cell:"
      ],
      "metadata": {
        "id": "hW0j60kG0Gsc"
      }
    },
    {
      "cell_type": "code",
      "source": [
        "feature = encoder.cols\n",
        "\n",
        "plt.figure(dpi=90)\n",
        "ax = sns.distplot(y_train, kde=True, hist=False)\n",
        "ax = sns.distplot(X_train[feature], color='r', ax=ax, hist=True, kde=False, norm_hist=True)\n",
        "ax.set_xlabel(\"SalePrice\");"
      ],
      "metadata": {
        "colab": {
          "base_uri": "https://localhost:8080/",
          "height": 440
        },
        "id": "WJ6aaPp40Gsc",
        "outputId": "d338d5a8-9879-48d4-83a9-d4e54c1d12b2"
      },
      "execution_count": 11,
      "outputs": [
        {
          "output_type": "display_data",
          "data": {
            "text/plain": [
              "<Figure size 576x432 with 1 Axes>"
            ],
            "image/png": "[encoded data removed]"
          },
          "metadata": {}
        }
      ]
    },
    {
      "cell_type": "markdown",
      "source": [
        "From the distribution plots, does it seem like the encoding is informative?\n",
        "\n",
        "And this cell will show you the score of the encoded set compared to the original set:"
      ],
      "metadata": {
        "id": "5-kUCyVb0Gsd"
      }
    },
    {
      "cell_type": "code",
      "source": [
        "X = df.copy()\n",
        "y = X.pop(\"SalePrice\")\n",
        "score_base = score_dataset(X, y)\n",
        "score_new = score_dataset(X_train, y_train)\n",
        "\n",
        "print(f\"Baseline Score: {score_base:.4f} RMSLE\")\n",
        "print(f\"Score with Encoding: {score_new:.4f} RMSLE\")"
      ],
      "metadata": {
        "colab": {
          "base_uri": "https://localhost:8080/"
        },
        "id": "bs4xuaPU0Gsd",
        "outputId": "b2dee51f-c705-4303-cd94-b6e4af2696a2"
      },
      "execution_count": 12,
      "outputs": [
        {
          "output_type": "stream",
          "name": "stdout",
          "text": [
            "Baseline Score: 0.1426 RMSLE\n",
            "Score with Encoding: 0.1412 RMSLE\n"
          ]
        }
      ]
    },
    {
      "cell_type": "markdown",
      "source": [
        "Do you think that target encoding was worthwhile in this case? Depending on which feature or features you chose, you may have ended up with a score significantly worse than the baseline. In that case, it's likely the extra information gained by the encoding couldn't make up for the loss of data used for the encoding."
      ],
      "metadata": {
        "id": "sB4OETNO0Gsd"
      }
    },
    {
      "cell_type": "markdown",
      "source": [
        "-------------------------------------------------------------------------------\n",
        "\n",
        "In this question, you'll explore the problem of overfitting with target encodings. This will illustrate this importance of training fitting target encoders on data held-out from the training set.\n",
        "\n",
        "So let's see what happens when we fit the encoder and the model on the *same* dataset. To emphasize how dramatic the overfitting can be, we'll mean-encode a feature that should have no relationship with `SalePrice`, a count: `0, 1, 2, 3, 4, 5, ...`."
      ],
      "metadata": {
        "id": "tSwTYDnj0Gsd"
      }
    },
    {
      "cell_type": "code",
      "source": [
        "# Try experimenting with the smoothing parameter m\n",
        "# Try 0, 1, 5, 50\n",
        "m = 50\n",
        "\n",
        "X = df.copy()\n",
        "y = X.pop('SalePrice')\n",
        "\n",
        "# Create an uninformative feature\n",
        "X[\"Count\"] = range(len(X))\n",
        "X[\"Count\"][1] = 0  # actually need one duplicate value to circumvent error-checking in MEstimateEncoder\n",
        "\n",
        "# fit and transform on the same dataset\n",
        "encoder = MEstimateEncoder(cols=\"Count\", m=m)\n",
        "X = encoder.fit_transform(X, y)\n",
        "\n",
        "# Results\n",
        "score =  score_dataset(X, y)\n",
        "print(f\"Score: {score:.4f} RMSLE\")"
      ],
      "metadata": {
        "colab": {
          "base_uri": "https://localhost:8080/"
        },
        "id": "gFLnA_lN0Gse",
        "outputId": "e545f394-ab16-41ff-bb89-9c17545e6226"
      },
      "execution_count": 15,
      "outputs": [
        {
          "output_type": "stream",
          "name": "stdout",
          "text": [
            "Score: 0.0363 RMSLE\n"
          ]
        }
      ]
    },
    {
      "cell_type": "markdown",
      "source": [
        "Almost a perfect score!"
      ],
      "metadata": {
        "id": "0ZGawQhV0Gse"
      }
    },
    {
      "cell_type": "code",
      "source": [
        "plt.figure(dpi=90)\n",
        "ax = sns.distplot(y, kde=True, hist=False)\n",
        "ax = sns.distplot(X[\"Count\"], color='r', ax=ax, hist=True, kde=False, norm_hist=True)\n",
        "ax.set_xlabel(\"SalePrice\");"
      ],
      "metadata": {
        "colab": {
          "base_uri": "https://localhost:8080/",
          "height": 440
        },
        "id": "-rt9Yg6L0Gse",
        "outputId": "11445afb-b0f4-4d97-d431-6a84de21f395"
      },
      "execution_count": 16,
      "outputs": [
        {
          "output_type": "display_data",
          "data": {
            "text/plain": [
              "<Figure size 576x432 with 1 Axes>"
            ],
            "image/png": "[encoded data removed]"
          },
          "metadata": {}
        }
      ]
    },
    {
      "cell_type": "markdown",
      "source": [
        "And the distributions are almost exactly the same, too.\n",
        "\n",
        "# 3) Overfitting with Target Encoders\n",
        "\n",
        "Based on your understanding of how mean-encoding works, can you explain how XGBoost was able to get an almost a perfect fit after mean-encoding the count feature?"
      ],
      "metadata": {
        "id": "pAkokPpr0Gse"
      }
    },
    {
      "cell_type": "code",
      "source": [
        "# View the solution (Run this cell to receive credit!)\n",
        "q_3.check()"
      ],
      "metadata": {
        "lines_to_next_cell": 0,
        "id": "AhXk2sLv0Gse"
      },
      "execution_count": null,
      "outputs": []
    },
    {
      "cell_type": "code",
      "source": [
        "# Uncomment this if you'd like a hint before seeing the answer\n",
        "#q_3.hint()"
      ],
      "metadata": {
        "id": "KA_tCKge0Gsf"
      },
      "execution_count": null,
      "outputs": []
    },
    {
      "cell_type": "markdown",
      "source": [
        "# The End #\n",
        "\n",
        "That's it for *Feature Engineering*! We hope you enjoyed your time with us.\n",
        "\n",
        "Now, are you ready to try out your new skills? Now would be a great time to join our [Housing Prices](https://www.kaggle.com/c/house-prices-advanced-regression-techniques) Getting Started competition. We've even prepared a [Bonus Lesson](https://www.kaggle.com/ryanholbrook/feature-engineering-for-house-prices) that collects all the work we've done together into a starter notebook.\n",
        "\n",
        "# References #\n",
        "Here are some great resources you might like to consult for more information. They all played a part in shaping this course:\n",
        "- *The Art of Feature Engineering*, a book by Pablo Duboue.\n",
        "- *An Empirical Analysis of Feature Engineering for Predictive Modeling*, an article by Jeff Heaton.\n",
        "- *Feature Engineering for Machine Learning*, a book by Alice Zheng and Amanda Casari. The tutorial on clustering was inspired by this excellent book.\n",
        "- *Feature Engineering and Selection*, a book by Max Kuhn and Kjell Johnson."
      ],
      "metadata": {
        "id": "BmIyVeXF0Gsf"
      }
    },
    {
      "cell_type": "markdown",
      "source": [
        "---\n",
        "\n",
        "\n",
        "\n",
        "\n",
        "*Have questions or comments? Visit the [course discussion forum](https://www.kaggle.com/learn/feature-engineering/discussion) to chat with other learners.*"
      ],
      "metadata": {
        "id": "bJ4tKjh30Gsf"
      }
    }
  ]
}