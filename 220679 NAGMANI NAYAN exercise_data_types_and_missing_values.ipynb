{
  "metadata": {
    "kernelspec": {
      "display_name": "Python 3",
      "language": "python",
      "name": "python3"
    },
    "language_info": {
      "codemirror_mode": {
        "name": "ipython",
        "version": 3
      },
      "file_extension": ".py",
      "mimetype": "text/x-python",
      "name": "python",
      "nbconvert_exporter": "python",
      "pygments_lexer": "ipython3",
      "version": "3.6.5"
    },
    "kaggle": {
      "accelerator": "none",
      "dataSources": [
        {
          "sourceId": 1252,
          "sourceType": "datasetVersion",
          "datasetId": 655
        },
        {
          "sourceId": 3919,
          "sourceType": "datasetVersion",
          "datasetId": 2321
        },
        {
          "sourceId": 4877,
          "sourceType": "datasetVersion",
          "datasetId": 2894
        },
        {
          "sourceId": 5624,
          "sourceType": "datasetVersion",
          "datasetId": 3491
        },
        {
          "sourceId": 8172,
          "sourceType": "datasetVersion",
          "datasetId": 1442
        },
        {
          "sourceId": 13206,
          "sourceType": "datasetVersion",
          "datasetId": 9366
        },
        {
          "sourceId": 403916,
          "sourceType": "datasetVersion",
          "datasetId": 179555
        },
        {
          "sourceId": 466349,
          "sourceType": "datasetVersion",
          "datasetId": 4549
        },
        {
          "sourceId": 1151655,
          "sourceType": "datasetVersion",
          "datasetId": 2478
        },
        {
          "sourceId": 5438389,
          "sourceType": "datasetVersion",
          "datasetId": 10128
        }
      ],
      "isInternetEnabled": false,
      "language": "python",
      "sourceType": "notebook",
      "isGpuEnabled": false
    },
    "colab": {
      "provenance": [],
      "include_colab_link": true
    }
  },
  "nbformat_minor": 0,
  "nbformat": 4,
  "cells": [
    {
      "cell_type": "markdown",
      "metadata": {
        "id": "view-in-github",
        "colab_type": "text"
      },
      "source": [
        "<a href=\"https://colab.research.google.com/github/nagmani004/Intro-To-ML-GDSC-IITK/blob/main/220679%20NAGMANI%20NAYAN%20exercise_data_types_and_missing_values.ipynb\" target=\"_parent\"><img src=\"https://colab.research.google.com/assets/colab-badge.svg\" alt=\"Open In Colab\"/></a>"
      ]
    },
    {
      "cell_type": "markdown",
      "source": [
        "**This notebook is an exercise in the [Pandas](https://www.kaggle.com/learn/pandas) course.  You can reference the tutorial at [this link](https://www.kaggle.com/residentmario/data-types-and-missing-values).**\n",
        "\n",
        "---\n"
      ],
      "metadata": {
        "id": "5NRLi6guXnpT"
      }
    },
    {
      "cell_type": "markdown",
      "source": [
        "# Introduction\n",
        "\n",
        "Run the following cell to load your data and some utility functions."
      ],
      "metadata": {
        "id": "LGOXjNHOXnpW"
      }
    },
    {
      "cell_type": "code",
      "source": [
        "import pandas as pd\n",
        "\n",
        "reviews = pd.read_csv(\"/content/winemag-data-130k-v2.csv\", index_col=0)\n",
        "\n"
      ],
      "metadata": {
        "id": "SdzASidOXnpW"
      },
      "execution_count": 14,
      "outputs": []
    },
    {
      "cell_type": "markdown",
      "source": [
        "# Exercises"
      ],
      "metadata": {
        "id": "q2-yPwEcXnpX"
      }
    },
    {
      "cell_type": "markdown",
      "source": [
        "## 1.\n",
        "What is the data type of the `points` column in the dataset?"
      ],
      "metadata": {
        "id": "819airaPXnpY"
      }
    },
    {
      "cell_type": "code",
      "source": [
        "# Your code here\n",
        "dtype =reviews.points.dtypes\n",
        "\n",
        "print(dtype)"
      ],
      "metadata": {
        "colab": {
          "base_uri": "https://localhost:8080/"
        },
        "id": "sTGadMM2XnpY",
        "outputId": "0d52e9c5-ab01-4f3a-88a2-f91c3b0c3f2a"
      },
      "execution_count": 3,
      "outputs": [
        {
          "output_type": "stream",
          "name": "stdout",
          "text": [
            "int64\n"
          ]
        }
      ]
    },
    {
      "cell_type": "code",
      "source": [
        "#q1.hint()\n",
        "#q1.solution()"
      ],
      "metadata": {
        "id": "Rd0l56aaXnpY"
      },
      "execution_count": null,
      "outputs": []
    },
    {
      "cell_type": "markdown",
      "source": [
        "## 2.\n",
        "Create a Series from entries in the `points` column, but convert the entries to strings. Hint: strings are `str` in native Python."
      ],
      "metadata": {
        "id": "kzQfb2stXnpY"
      }
    },
    {
      "cell_type": "code",
      "source": [
        "point_strings = reviews.points.astype('str')\n",
        "\n",
        "print(point_strings)"
      ],
      "metadata": {
        "colab": {
          "base_uri": "https://localhost:8080/"
        },
        "id": "6VKu20h2XnpZ",
        "outputId": "153319db-11ec-4512-8017-1478df81850d"
      },
      "execution_count": 6,
      "outputs": [
        {
          "output_type": "stream",
          "name": "stdout",
          "text": [
            "0        87\n",
            "1        87\n",
            "2        87\n",
            "3        87\n",
            "4        87\n",
            "         ..\n",
            "36164    92\n",
            "36165    88\n",
            "36166    88\n",
            "36167    88\n",
            "36168    88\n",
            "Name: points, Length: 36169, dtype: object\n"
          ]
        }
      ]
    },
    {
      "cell_type": "code",
      "source": [
        "#q2.hint()\n",
        "#q2.solution()"
      ],
      "metadata": {
        "id": "NVSjPfbyXnpZ"
      },
      "execution_count": null,
      "outputs": []
    },
    {
      "cell_type": "markdown",
      "source": [
        "## 3.\n",
        "Sometimes the price column is null. How many reviews in the dataset are missing a price?"
      ],
      "metadata": {
        "id": "r55QqWPnXnpZ"
      }
    },
    {
      "cell_type": "code",
      "source": [
        "n_missing_prices =reviews[pd.isnull(reviews.price)]\n",
        "\n",
        "# Check your answer\n",
        "print(n_missing_prices)"
      ],
      "metadata": {
        "colab": {
          "base_uri": "https://localhost:8080/"
        },
        "id": "eKqMDaZgXnpa",
        "outputId": "6cdad106-7d06-4a71-dbdb-0fdd1f86ae25"
      },
      "execution_count": 8,
      "outputs": [
        {
          "output_type": "stream",
          "name": "stdout",
          "text": [
            "        country                                        description  \\\n",
            "0         Italy  Aromas include tropical fruit, broom, brimston...   \n",
            "13        Italy  This is dominated by oak and oak-driven aromas...   \n",
            "30       France  Red cherry fruit comes laced with light tannin...   \n",
            "31        Italy  Merlot and Nero d'Avola form the base for this...   \n",
            "32        Italy  Part of the extended Calanìca series, this Gri...   \n",
            "...         ...                                                ...   \n",
            "36080  Portugal  This single-variety wine from Alorna has a sop...   \n",
            "36088    France  With fruit from the Aube and from the Côte des...   \n",
            "36095    France  Rich but fresh, with good aromatic intensity. ...   \n",
            "36110     Italy  This opens with aromas of acacia, toast and a ...   \n",
            "36130     Italy  Made entirely with Nerello Mascalese, this cha...   \n",
            "\n",
            "                                designation  points  price           province  \\\n",
            "0                              Vulkà Bianco      87    NaN  Sicily & Sardinia   \n",
            "13                                    Rosso      87    NaN  Sicily & Sardinia   \n",
            "30                                  Nouveau      86    NaN         Beaujolais   \n",
            "31             Calanìca Nero d'Avola-Merlot      86    NaN  Sicily & Sardinia   \n",
            "32                 Calanìca Grillo-Viognier      86    NaN  Sicily & Sardinia   \n",
            "...                                     ...     ...    ...                ...   \n",
            "36080                                   NaN      89    NaN               Tejo   \n",
            "36088  Quattuor Blanc de Quatre Blancs Brut      88    NaN          Champagne   \n",
            "36095                          Cordon Rouge      88    NaN          Champagne   \n",
            "36110                          More Maiorum      89    NaN     Southern Italy   \n",
            "36130                                   NaN      89    NaN  Sicily & Sardinia   \n",
            "\n",
            "                  region_1 region_2    taster_name taster_twitter_handle  \\\n",
            "0                     Etna      NaN  Kerin O’Keefe          @kerinokeefe   \n",
            "13                    Etna      NaN  Kerin O’Keefe          @kerinokeefe   \n",
            "30     Beaujolais-Villages      NaN     Roger Voss            @vossroger   \n",
            "31                 Sicilia      NaN            NaN                   NaN   \n",
            "32                 Sicilia      NaN            NaN                   NaN   \n",
            "...                    ...      ...            ...                   ...   \n",
            "36080                  NaN      NaN     Roger Voss            @vossroger   \n",
            "36088            Champagne      NaN     Roger Voss            @vossroger   \n",
            "36095            Champagne      NaN     Roger Voss            @vossroger   \n",
            "36110    Fiano di Avellino      NaN  Kerin O’Keefe          @kerinokeefe   \n",
            "36130                 Etna      NaN  Kerin O’Keefe          @kerinokeefe   \n",
            "\n",
            "                                                   title            variety  \\\n",
            "0                      Nicosia 2013 Vulkà Bianco  (Etna)        White Blend   \n",
            "13                Masseria Setteporte 2012 Rosso  (Etna)  Nerello Mascalese   \n",
            "30     Domaine de la Madone 2012 Nouveau  (Beaujolais...              Gamay   \n",
            "31     Duca di Salaparuta 2010 Calanìca Nero d'Avola-...          Red Blend   \n",
            "32     Duca di Salaparuta 2011 Calanìca Grillo-Viogni...        White Blend   \n",
            "...                                                  ...                ...   \n",
            "36080      Quinta da Alorna 2009 Touriga Nacional (Tejo)   Touriga Nacional   \n",
            "36088  Drappier NV Quattuor Blanc de Quatre Blancs Br...         Chardonnay   \n",
            "36095            G. H. Mumm NV Cordon Rouge  (Champagne)    Champagne Blend   \n",
            "36110  Mastroberardino 2013 More Maiorum  (Fiano di A...              Fiano   \n",
            "36130                       Cottanera 2016 Rosato (Etna)             Rosato   \n",
            "\n",
            "                     winery  \n",
            "0                   Nicosia  \n",
            "13      Masseria Setteporte  \n",
            "30     Domaine de la Madone  \n",
            "31       Duca di Salaparuta  \n",
            "32       Duca di Salaparuta  \n",
            "...                     ...  \n",
            "36080      Quinta da Alorna  \n",
            "36088              Drappier  \n",
            "36095            G. H. Mumm  \n",
            "36110       Mastroberardino  \n",
            "36130             Cottanera  \n",
            "\n",
            "[2628 rows x 13 columns]\n"
          ]
        }
      ]
    },
    {
      "cell_type": "code",
      "source": [
        "#q3.hint()\n",
        "#q3.solution()"
      ],
      "metadata": {
        "id": "WlftofX2Xnpa"
      },
      "execution_count": null,
      "outputs": []
    },
    {
      "cell_type": "markdown",
      "source": [
        "## 4.\n",
        "What are the most common wine-producing regions? Create a Series counting the number of times each value occurs in the `region_1` field. This field is often missing data, so replace missing values with `Unknown`. Sort in descending order.  Your output should look something like this:\n",
        "\n",
        "```\n",
        "Unknown                    21247\n",
        "Napa Valley                 4480\n",
        "                           ...  \n",
        "Bardolino Superiore            1\n",
        "Primitivo del Tarantino        1\n",
        "Name: region_1, Length: 1230, dtype: int64\n",
        "```"
      ],
      "metadata": {
        "id": "MHt1iJFyXnpa"
      }
    },
    {
      "cell_type": "code",
      "source": [
        "reviews.region_1=reviews.region_1.fillna(\"Unknown\")\n",
        "reviews_per_region =reviews.region_1.value_counts()\n",
        "print(reviews_per_region)\n"
      ],
      "metadata": {
        "colab": {
          "base_uri": "https://localhost:8080/"
        },
        "id": "S9daDwl5Xnpb",
        "outputId": "8e81bcf5-487c-4ed2-dfd2-4598441723ae"
      },
      "execution_count": 13,
      "outputs": [
        {
          "output_type": "stream",
          "name": "stdout",
          "text": [
            "Unknown                 6074\n",
            "Napa Valley             1260\n",
            "Columbia Valley (WA)    1090\n",
            "Russian River Valley     872\n",
            "California               752\n",
            "                        ... \n",
            "Sonoma-Mendocino           1\n",
            "Alghero                    1\n",
            "Corton Grèves              1\n",
            "Colli Aprutini             1\n",
            "Abruzzo                    1\n",
            "Name: region_1, Length: 1003, dtype: int64\n"
          ]
        }
      ]
    },
    {
      "cell_type": "code",
      "source": [
        "#q4.hint()\n",
        "#q4.solution()"
      ],
      "metadata": {
        "id": "4iN6pZtGXnpb"
      },
      "execution_count": null,
      "outputs": []
    },
    {
      "cell_type": "markdown",
      "source": [
        "# Keep going\n",
        "\n",
        "Move on to **[renaming and combining](https://www.kaggle.com/residentmario/renaming-and-combining)**."
      ],
      "metadata": {
        "id": "WEFO8Ju4Xnpb"
      }
    },
    {
      "cell_type": "markdown",
      "source": [
        "---\n",
        "\n",
        "\n",
        "\n",
        "\n",
        "*Have questions or comments? Visit the [course discussion forum](https://www.kaggle.com/learn/pandas/discussion) to chat with other learners.*"
      ],
      "metadata": {
        "id": "3DOPdJQ7Xnpb"
      }
    }
  ]
}