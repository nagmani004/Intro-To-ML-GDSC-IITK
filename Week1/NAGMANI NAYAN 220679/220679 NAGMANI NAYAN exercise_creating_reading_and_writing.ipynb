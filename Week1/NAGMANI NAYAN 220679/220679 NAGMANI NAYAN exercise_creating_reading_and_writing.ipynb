{
  "cells": [
    {
      "cell_type": "markdown",
      "metadata": {
        "id": "view-in-github",
        "colab_type": "text"
      },
      "source": [
        "<a href=\"https://colab.research.google.com/github/nagmani004/Intro-To-ML-GDSC-IITK/blob/main/220679%20NAGMANI%20NAYAN%20exercise_creating_reading_and_writing.ipynb\" target=\"_parent\"><img src=\"https://colab.research.google.com/assets/colab-badge.svg\" alt=\"Open In Colab\"/></a>"
      ]
    },
    {
      "cell_type": "markdown",
      "metadata": {
        "id": "fQKErmEnk-SY"
      },
      "source": [
        "**This notebook is an exercise in the [Pandas](https://www.kaggle.com/learn/pandas) course.  You can reference the tutorial at [this link](https://www.kaggle.com/residentmario/creating-reading-and-writing).**\n",
        "\n",
        "---\n"
      ]
    },
    {
      "cell_type": "markdown",
      "metadata": {
        "id": "qLiT2MQek-Sc"
      },
      "source": [
        "# Introduction\n",
        "\n",
        "The first step in most data analytics projects is reading the data file. In this exercise, you'll create Series and DataFrame objects, both by hand and by reading data files.\n",
        "\n",
        "Run the code cell below to load libraries you will need (including code to check your answers)."
      ]
    },
    {
      "cell_type": "code",
      "execution_count": 1,
      "metadata": {
        "id": "UBBdQth3lu2x"
      },
      "outputs": [],
      "source": [
        "import pandas as pd"
      ]
    },
    {
      "cell_type": "markdown",
      "metadata": {
        "id": "dCQitrFDk-Se"
      },
      "source": [
        "# Exercises"
      ]
    },
    {
      "cell_type": "markdown",
      "metadata": {
        "id": "hRluatHWk-Se"
      },
      "source": [
        "## 1.\n",
        "\n",
        "In the cell below, create a DataFrame `fruits` that looks like this:\n",
        "\n",
        "![](https://storage.googleapis.com/kaggle-media/learn/images/Ax3pp2A.png)"
      ]
    },
    {
      "cell_type": "code",
      "execution_count": null,
      "metadata": {
        "id": "mbGJmLaUk-Sf"
      },
      "outputs": [],
      "source": [
        "# Your code goes here. Create a dataframe matching the above diagram and assign it to the variable fruits.\n",
        "fruits = pd.DataFrame({'Apples':[30],'Bananas':[21]})\n",
        "\n"
      ]
    },
    {
      "cell_type": "code",
      "execution_count": null,
      "metadata": {
        "id": "o5dhIBBkk-Sf"
      },
      "outputs": [],
      "source": [
        "#q1.hint()\n",
        "#q1.solution()"
      ]
    },
    {
      "cell_type": "markdown",
      "metadata": {
        "id": "LOy18t6zk-Sf"
      },
      "source": [
        "## 2.\n",
        "\n",
        "Create a dataframe `fruit_sales` that matches the diagram below:\n",
        "\n",
        "![](https://storage.googleapis.com/kaggle-media/learn/images/CHPn7ZF.png)"
      ]
    },
    {
      "cell_type": "code",
      "execution_count": null,
      "metadata": {
        "id": "wJQlWZ59k-Sg"
      },
      "outputs": [],
      "source": [
        "# Your code goes here. Create a dataframe matching the above diagram and assign it to the variable fruit_sales.\n",
        "fruit_sales = pd.DataFrame({'Apples':[35,41],'Bananas':[21,34]},index=['2017 Sales','2018 Sales'])\n",
        "\n",
        "# Check your answer\n"
      ]
    },
    {
      "cell_type": "code",
      "execution_count": null,
      "metadata": {
        "id": "87biPg5zk-Sg"
      },
      "outputs": [],
      "source": [
        "#q2.hint()\n",
        "#q2.solution()"
      ]
    },
    {
      "cell_type": "markdown",
      "metadata": {
        "id": "SD70UBjpk-Sg"
      },
      "source": [
        "## 3.\n",
        "\n",
        "Create a variable `ingredients` with a Series that looks like:\n",
        "\n",
        "```\n",
        "Flour     4 cups\n",
        "Milk       1 cup\n",
        "Eggs     2 large\n",
        "Spam       1 can\n",
        "Name: Dinner, dtype: object\n",
        "```"
      ]
    },
    {
      "cell_type": "code",
      "execution_count": null,
      "metadata": {
        "colab": {
          "base_uri": "https://localhost:8080/"
        },
        "id": "vMugOpt4k-Sg",
        "outputId": "b09ebbaf-7d3d-4544-e580-e608bc3c859a"
      },
      "outputs": [
        {
          "name": "stdout",
          "output_type": "stream",
          "text": [
            "Flour     4 cups\n",
            "Milk      1 cups\n",
            "Eggs     2 large\n",
            "Spam       1 can\n",
            "Name: Dinner, dtype: object\n"
          ]
        }
      ],
      "source": [
        "ingredients = pd.Series(['4 cups','1 cups','2 large','1 can',],index=['Flour','Milk','Eggs','Spam'],name='Dinner')\n",
        "print(ingredients)\n",
        "# Check your answer\n"
      ]
    },
    {
      "cell_type": "code",
      "execution_count": null,
      "metadata": {
        "id": "TCLpn3xqk-Sh"
      },
      "outputs": [],
      "source": [
        "#q3.hint()\n",
        "#q3.solution()"
      ]
    },
    {
      "cell_type": "markdown",
      "metadata": {
        "id": "CTkIIZmrk-Sh"
      },
      "source": [
        "## 4.\n",
        "\n",
        "Read the following csv dataset of wine reviews into a DataFrame called `reviews`:\n",
        "\n",
        "![](https://storage.googleapis.com/kaggle-media/learn/images/74RCZtU.png)\n",
        "\n",
        "The filepath to the csv file is `../input/wine-reviews/winemag-data_first150k.csv`. The first few lines look like:\n",
        "\n",
        "```\n",
        ",country,description,designation,points,price,province,region_1,region_2,variety,winery\n",
        "0,US,\"This tremendous 100% varietal wine[...]\",Martha's Vineyard,96,235.0,California,Napa Valley,Napa,Cabernet Sauvignon,Heitz\n",
        "1,Spain,\"Ripe aromas of fig, blackberry and[...]\",Carodorum Selección Especial Reserva,96,110.0,Northern Spain,Toro,,Tinta de Toro,Bodega Carmen Rodríguez\n",
        "```"
      ]
    },
    {
      "cell_type": "code",
      "execution_count": 7,
      "metadata": {
        "colab": {
          "base_uri": "https://localhost:8080/"
        },
        "id": "_Zs4T2HWk-Sr",
        "outputId": "267beb01-6a18-4bbd-c89f-b560e302bc5e"
      },
      "outputs": [
        {
          "output_type": "execute_result",
          "data": {
            "text/plain": [
              "<bound method NDFrame.describe of        Unnamed: 0 country                                        description  \\\n",
              "0               0      US  This tremendous 100% varietal wine hails from ...   \n",
              "1               1   Spain  Ripe aromas of fig, blackberry and cassis are ...   \n",
              "2               2      US  Mac Watson honors the memory of a wine once ma...   \n",
              "3               3      US  This spent 20 months in 30% new French oak, an...   \n",
              "4               4  France  This is the top wine from La Bégude, named aft...   \n",
              "...           ...     ...                                                ...   \n",
              "19039       19039      US  Plenty of Zinny character in this lusty, spicy...   \n",
              "19040       19040      US  Delicious, with pleasurable flavors of milk ch...   \n",
              "19041       19041   Italy  This hearty red wine from central Italy would ...   \n",
              "19042       19042  France  A powerful wine that has integrated its dense ...   \n",
              "19043       19043   Italy  This elegant wine opens with rich concentratio...   \n",
              "\n",
              "                                designation  points  price          province  \\\n",
              "0                         Martha's Vineyard      96  235.0        California   \n",
              "1      Carodorum Selección Especial Reserva      96  110.0    Northern Spain   \n",
              "2             Special Selected Late Harvest      96   90.0        California   \n",
              "3                                   Reserve      96   65.0            Oregon   \n",
              "4                                La Brûlade      95   66.0          Provence   \n",
              "...                                     ...     ...    ...               ...   \n",
              "19039                     Morisoli Vineyard      91   37.0        California   \n",
              "19040                                   NaN      91   52.0        California   \n",
              "19041                                Tullum      91   22.0     Central Italy   \n",
              "19042              Prieuré de Cénac Mission      91   15.0  Southwest France   \n",
              "19043                               Cagiòlo      91    NaN                Ce   \n",
              "\n",
              "                region_1           region_2             variety  \\\n",
              "0            Napa Valley               Napa  Cabernet Sauvignon   \n",
              "1                   Toro                NaN       Tinta de Toro   \n",
              "2         Knights Valley             Sonoma     Sauvignon Blanc   \n",
              "3      Willamette Valley  Willamette Valley          Pinot Noir   \n",
              "4                 Bandol                NaN  Provence red blend   \n",
              "...                  ...                ...                 ...   \n",
              "19039        Napa Valley               Napa           Zinfandel   \n",
              "19040        Napa Valley               Napa      Cabernet Franc   \n",
              "19041            Abruzzo                NaN           Red Blend   \n",
              "19042             Cahors                NaN       Malbec-Merlot   \n",
              "19043                NaN                NaN                 NaN   \n",
              "\n",
              "                            winery  \n",
              "0                            Heitz  \n",
              "1          Bodega Carmen Rodríguez  \n",
              "2                         Macauley  \n",
              "3                            Ponzi  \n",
              "4             Domaine de la Bégude  \n",
              "...                            ...  \n",
              "19039                        Elyse  \n",
              "19040                      Frazier  \n",
              "19041                 Feudo Antico  \n",
              "19042  Château Saint-Didier-Parnac  \n",
              "19043                          NaN  \n",
              "\n",
              "[19044 rows x 11 columns]>"
            ]
          },
          "metadata": {},
          "execution_count": 7
        }
      ],
      "source": [
        " file_path= '/content/winemag-data_first150k.csv'\n",
        "reviews=pd.read_csv(file_path)\n",
        "reviews.describe\n",
        "# Check your answer"
      ]
    },
    {
      "cell_type": "code",
      "execution_count": null,
      "metadata": {
        "id": "qOT_RVhuk-Sr"
      },
      "outputs": [],
      "source": [
        "#q4.hint()\n",
        "#q4.solution()"
      ]
    },
    {
      "cell_type": "markdown",
      "metadata": {
        "id": "Bpak-Db6k-Ss"
      },
      "source": [
        "## 5.\n",
        "\n",
        "Run the cell below to create and display a DataFrame called `animals`:"
      ]
    },
    {
      "cell_type": "code",
      "execution_count": null,
      "metadata": {
        "colab": {
          "base_uri": "https://localhost:8080/"
        },
        "id": "WDpf4MYzk-Ss",
        "outputId": "458c7f41-11b1-4e2b-eb8e-34dff86ae4be"
      },
      "outputs": [
        {
          "output_type": "stream",
          "name": "stdout",
          "text": [
            "        Cows  Goats\n",
            "Year 1    12     22\n",
            "Year 2    20     19\n"
          ]
        }
      ],
      "source": [
        "animals = pd.DataFrame({'Cows': [12, 20], 'Goats': [22, 19]}, index=['Year 1', 'Year 2'])\n",
        "print(animals)"
      ]
    },
    {
      "cell_type": "markdown",
      "metadata": {
        "id": "G9C1w3Z1k-Ss"
      },
      "source": [
        "In the cell below, write code to save this DataFrame to disk as a csv file with the name `cows_and_goats.csv`."
      ]
    },
    {
      "cell_type": "code",
      "execution_count": null,
      "metadata": {
        "id": "46taP7FKk-Ss"
      },
      "outputs": [],
      "source": [
        "# Your code goes here\n",
        "animals.to_csv('cows_and_goats.csv')\n",
        "\n",
        "# Check your answer\n"
      ]
    },
    {
      "cell_type": "code",
      "execution_count": null,
      "metadata": {
        "id": "SSZt5wCJk-Ss"
      },
      "outputs": [],
      "source": [
        "#q5.hint()\n",
        "#q5.solution()"
      ]
    },
    {
      "cell_type": "markdown",
      "metadata": {
        "id": "G_C0qCj0k-St"
      },
      "source": [
        "# Keep going\n",
        "\n",
        "Move on to learn about **[indexing, selecting and assigning](https://www.kaggle.com/residentmario/indexing-selecting-assigning)**."
      ]
    },
    {
      "cell_type": "markdown",
      "metadata": {
        "id": "OHo6uZOAk-St"
      },
      "source": [
        "---\n",
        "\n",
        "\n",
        "\n",
        "\n",
        "*Have questions or comments? Visit the [course discussion forum](https://www.kaggle.com/learn/pandas/discussion) to chat with other learners.*"
      ]
    }
  ],
  "metadata": {
    "colab": {
      "provenance": [],
      "include_colab_link": true
    },
    "kaggle": {
      "accelerator": "none",
      "dataSources": [
        {
          "datasetId": 655,
          "sourceId": 1252,
          "sourceType": "datasetVersion"
        },
        {
          "datasetId": 2321,
          "sourceId": 3919,
          "sourceType": "datasetVersion"
        },
        {
          "datasetId": 2894,
          "sourceId": 4877,
          "sourceType": "datasetVersion"
        },
        {
          "datasetId": 3491,
          "sourceId": 5624,
          "sourceType": "datasetVersion"
        },
        {
          "datasetId": 1442,
          "sourceId": 8172,
          "sourceType": "datasetVersion"
        },
        {
          "datasetId": 9366,
          "sourceId": 13206,
          "sourceType": "datasetVersion"
        },
        {
          "datasetId": 179555,
          "sourceId": 403916,
          "sourceType": "datasetVersion"
        },
        {
          "datasetId": 4549,
          "sourceId": 466349,
          "sourceType": "datasetVersion"
        },
        {
          "datasetId": 2478,
          "sourceId": 1151655,
          "sourceType": "datasetVersion"
        },
        {
          "datasetId": 10128,
          "sourceId": 5438389,
          "sourceType": "datasetVersion"
        }
      ],
      "isGpuEnabled": false,
      "isInternetEnabled": false,
      "language": "python",
      "sourceType": "notebook"
    },
    "kernelspec": {
      "display_name": "Python 3",
      "language": "python",
      "name": "python3"
    },
    "language_info": {
      "codemirror_mode": {
        "name": "ipython",
        "version": 3
      },
      "file_extension": ".py",
      "mimetype": "text/x-python",
      "name": "python",
      "nbconvert_exporter": "python",
      "pygments_lexer": "ipython3",
      "version": "3.6.5"
    }
  },
  "nbformat": 4,
  "nbformat_minor": 0
}